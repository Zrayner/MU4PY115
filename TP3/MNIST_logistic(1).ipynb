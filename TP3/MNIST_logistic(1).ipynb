{
 "cells": [
  {
   "cell_type": "markdown",
   "metadata": {},
   "source": [
    "# Notebook 7: Logistic Regression and SoftMax for MNIST"
   ]
  },
  {
   "cell_type": "markdown",
   "metadata": {},
   "source": [
    "## Learning Goal\n",
    "\n",
    "The goal of this notebook is to familiarize the reader with SoftMax regression (a generalization of logistic regression to more than two categories), categorical predictions, and the MNIST handwritten dataset. The reader will understand how to use the Scikit Logistic regression package and visualize learned weights.\n",
    "\n",
    "## Overview\n",
    "### The MNIST dataset:\n",
    "The MNIST classification problem is one of the classical ML problems for learning classification on high-dimensional data with a fairly sizable number of examples (60000). Yann LeCun and collaborators collected and processed $70000$ handwritten digits (60000 are used for training and 10000 for testing) to produce what became known as one of the most widely used datasets in ML: the [MNIST](http://yann.lecun.com/exdb/mnist/) dataset. Each handwritten digit comes in a grayscale square image in the shape of a $28\\times 28$ pixel grid. Every pixel takes a value in the range $[0,255]$, representing $256$ nuances of the gray color. The problem of image classification finds applications in a wide range of fields and is important for numerous industry applications of ML. \n",
    "### SoftMax regression:\n",
    "We will use SoftMax regression, which can be thought of as a statistical model which assigns a probability that a given input image corresponds to any of the 10 handwritten digits. The model is a generalization of the logistic regression and reads:\n",
    "$$\n",
    "p(y=i|\\boldsymbol{x};W) = \\frac{e^{\\boldsymbol{w}_i^T \\boldsymbol{x}}}{\\sum_{j=0}^9 e^{\\boldsymbol{w}_j^T \\boldsymbol{x}}}\n",
    "$$\n",
    "Where $p(y=i|\\boldsymbol{x};W)$ is the probability that input $\\boldsymbol{x}$ is the $i$-th digit, $i\\in[0,9]$.\n",
    "The model also has 10 weight vectors $\\boldsymbol{w}_i$ which we will train below. Finally, one can use this information for prediction by taking the value of $y$ for which this probability is maximized:\n",
    "\\begin{align}\n",
    "y_{pred}=\\arg\\max_i p(y=i|\\boldsymbol{x})\n",
    "\\end{align}\n",
    "\n",
    "## Numerical Experiments\n",
    "\n",
    "The reader is invited to check out the code below to build up their intuition about SoftMax regression. The following notebook is a slight modification of [this Scikit tutorial](http://scikit-learn.org/dev/auto_examples/linear_model/plot_sparse_logistic_regression_mnist.html) by Arthur Mensch on studying the MNIST problem using Logistic Regression."
   ]
  },
  {
   "cell_type": "code",
   "execution_count": 1,
   "metadata": {},
   "outputs": [
    {
     "name": "stdout",
     "output_type": "stream",
     "text": [
      "Automatically created module for IPython interactive environment\n",
      "(70000, 784)\n"
     ]
    }
   ],
   "source": [
    "import time\n",
    "import numpy as np\n",
    "\n",
    "from sklearn.datasets import fetch_openml # MNIST data\n",
    "from sklearn.linear_model import LogisticRegression\n",
    "from sklearn.model_selection import train_test_split\n",
    "from sklearn.preprocessing import StandardScaler\n",
    "from sklearn.utils import check_random_state\n",
    "\n",
    "print(__doc__)\n",
    "\n",
    "# Turn down for faster convergence\n",
    "t0 = time.time()\n",
    "train_size = 50000\n",
    "test_size = 10000\n",
    "\n",
    "### load MNIST data from https://www.openml.org/d/554\n",
    "X, y = fetch_openml('mnist_784', version=1, return_X_y=True)\n",
    "print(X.shape)\n",
    "# shuffle data"
   ]
  },
  {
   "cell_type": "markdown",
   "metadata": {},
   "source": [
    "***Exercise : *** The data you have here is sorted, write a piece of code to shuffle the data"
   ]
  },
  {
   "cell_type": "code",
   "execution_count": 3,
   "metadata": {},
   "outputs": [],
   "source": [
    "random_indices=np.arange(y.size)\n",
    "np.random.shuffle(random_indices)\n",
    "X_shuffled=np.empty_like(X)\n",
    "y_shuffled=np.empty_like(y)\n",
    "for i in range(y_shuffled.size):\n",
    "    X_shuffled[i,:]=X[random_indices[i],:]\n",
    "    y_shuffled[i]=y[random_indices[i]]\n",
    "X=X_shuffled.copy()\n",
    "y=y_shuffled.copy()"
   ]
  },
  {
   "cell_type": "code",
   "execution_count": 5,
   "metadata": {
    "scrolled": true
   },
   "outputs": [
    {
     "name": "stdout",
     "output_type": "stream",
     "text": [
      "[[0. 0. 0. ... 0. 0. 0.]\n",
      " [0. 0. 0. ... 0. 0. 0.]\n",
      " [0. 0. 0. ... 0. 0. 0.]\n",
      " ...\n",
      " [0. 0. 0. ... 0. 0. 0.]\n",
      " [0. 0. 0. ... 0. 0. 0.]\n",
      " [0. 0. 0. ... 0. 0. 0.]]\n",
      "Example run in 66.553 s\n",
      "Sparsity with L2 penalty: 9.57%\n",
      "Test score with L2 penalty: 0.8994\n"
     ]
    }
   ],
   "source": [
    "# pick training and test data sets \n",
    "X_train, X_test, y_train, y_test = train_test_split(X,y,train_size=train_size,test_size=test_size)\n",
    "\n",
    "# scale data to have zero mean and unit variance [required by regressor]\n",
    "scaler = StandardScaler()\n",
    "X_train_scaled = scaler.fit_transform(X_train)\n",
    "X_test_scaled = scaler.transform(X_test)\n",
    "\n",
    "# apply logistic regressor with 'sag' solver, C is the inverse regularization strength\n",
    "clf = LogisticRegression(C=1e5,\n",
    "                         multi_class='multinomial', #Permet de faire une regression logistique de type soft max\n",
    "                         penalty='l2', solver='sag', tol=0.1)\n",
    "# fit data\n",
    "clf.fit(X_train_scaled, y_train)\n",
    "# percentage of nonzero weights\n",
    "sparsity = np.mean(clf.coef_ == 0) * 100\n",
    "# compute accuracy\n",
    "score = clf.score(X_test_scaled, y_test)\n",
    "print(clf.coef_)\n",
    "#display run time\n",
    "run_time = time.time() - t0\n",
    "print('Example run in %.3f s' % run_time)\n",
    "\n",
    "print(\"Sparsity with L2 penalty: %.2f%%\" % sparsity)\n",
    "print(\"Test score with L2 penalty: %.4f\" % score)"
   ]
  },
  {
   "cell_type": "code",
   "execution_count": 6,
   "metadata": {
    "scrolled": true
   },
   "outputs": [
    {
     "name": "stdout",
     "output_type": "stream",
     "text": [
      "(10, 784)\n"
     ]
    },
    {
     "data": {
      "image/png": "[encoded data removed]",
      "text/plain": [
       "<Figure size 720x360 with 10 Axes>"
      ]
     },
     "metadata": {},
     "output_type": "display_data"
    }
   ],
   "source": [
    "%matplotlib inline\n",
    "import matplotlib.pyplot as plt\n",
    "\n",
    "# plot weights vs the pixel position\n",
    "coef = clf.coef_.copy()\n",
    "print(coef.shape)\n",
    "plt.figure(figsize=(10, 5))\n",
    "scale = np.abs(coef).max()\n",
    "for i in range(10):\n",
    "    l2_plot = plt.subplot(2, 5, i + 1)\n",
    "    l2_plot.imshow(coef[i].reshape(28, 28), interpolation='nearest',\n",
    "                   cmap=plt.cm.Greys, vmin=-scale, vmax=scale)\n",
    "    l2_plot.set_xticks(())\n",
    "    l2_plot.set_yticks(())\n",
    "    l2_plot.set_xlabel('Class %i' % i)\n",
    "plt.suptitle('classification weights vector $w_j$ for digit class $j$')\n",
    "\n",
    "plt.show()"
   ]
  },
  {
   "cell_type": "markdown",
   "metadata": {},
   "source": [
    "### Exercises: ###  \n",
    "\n",
    "* The snippet above invoked the \"sag\" solver which only deals with $L2$ regularization. Try another solver, e.g. 'liblinear', in scikit that supports $L1$ regularization. You can find more details on <a href=\"http://scikit-learn.org/stable/modules/generated/sklearn.linear_model.LogisticRegression.html\"> http://scikit-learn.org/stable/modules/generated/sklearn.linear_model.LogisticRegression.html.</a>\n"
   ]
  },
  {
   "cell_type": "code",
   "execution_count": 7,
   "metadata": {},
   "outputs": [
    {
     "data": {
      "text/plain": [
       "LogisticRegression(C=100000.0, multi_class='multinomial', penalty='l1',\n",
       "                   solver='saga', tol=0.1)"
      ]
     },
     "execution_count": 7,
     "metadata": {},
     "output_type": "execute_result"
    }
   ],
   "source": [
    "clf = LogisticRegression(C=1e5, #parametre de regularisation\n",
    "                         multi_class='multinomial', #Permet de faire une regression logistique de type soft max\n",
    "                         penalty='l1', solver='saga', tol=0.1)             #penalty = type de regularisation L1 lasso L2 ridge\n",
    "clf.fit(X_train_scaled, y_train)\n",
    "\n"
   ]
  },
  {
   "cell_type": "markdown",
   "metadata": {},
   "source": [
    "\n",
    "* Visualize the misclassified samples. Analyze on how logistic regression performs on MNIST, and note this since we will study the MNIST problem later on using deep neural nets.\n"
   ]
  },
  {
   "cell_type": "code",
   "execution_count": 8,
   "metadata": {},
   "outputs": [
    {
     "name": "stdout",
     "output_type": "stream",
     "text": [
      "(array([    3,     8,    25, ..., 49966, 49969, 49990], dtype=int64),)\n",
      "(1, 5682)\n",
      "[8789, 14370, 24319, 34687, 42078, 48194, 41419, 1354, 1131, 49346, 47194, 24922]\n",
      "%d'erreurs: 0.10060000000000002\n"
     ]
    },
    {
     "data": {
      "image/png": "[encoded data removed]",
      "text/plain": [
       "<Figure size 720x720 with 12 Axes>"
      ]
     },
     "metadata": {
      "needs_background": "light"
     },
     "output_type": "display_data"
    }
   ],
   "source": [
    "errors = np.where(y_train != clf.predict(X_train_scaled))\n",
    "\n",
    "print(errors)\n",
    "print(np.shape(errors))\n",
    "from random import sample\n",
    "nums=sample(list(errors[0]),12)\n",
    "print(nums)\n",
    "\n",
    "plt.figure(figsize=(10, 10))\n",
    "for i in range(12):\n",
    "    missclassified_plot=plt.subplot(4, 3, i + 1)\n",
    "    missclassified_plot.imshow(X_train[nums[i], :].reshape(28,28), cmap=\"gray\")\n",
    "    missclassified_plot.set_title(\"predicted label: %d\" % (clf.predict(X_train_scaled[nums[i], :].reshape(1, -1))))\n",
    "    missclassified_plot.axes.get_xaxis().set_visible(False)\n",
    "    missclassified_plot.axes.get_yaxis().set_visible(False)\n",
    "print(\"%d'erreurs:\",1-score)"
   ]
  },
  {
   "cell_type": "code",
   "execution_count": 8,
   "metadata": {},
   "outputs": [
    {
     "name": "stdout",
     "output_type": "stream",
     "text": [
      "(array([   4,   15,   17, ..., 9962, 9963, 9977]),)\n",
      "(1, 1191)\n",
      "[4713, 1573, 8003, 964, 2253, 4405, 717, 374, 7407, 1564, 8126, 9625]\n",
      "precision 0.1191\n"
     ]
    },
    {
     "data": {
      "image/png": "[encoded data removed]",
      "text/plain": [
       "<Figure size 720x720 with 12 Axes>"
      ]
     },
     "metadata": {
      "needs_background": "light"
     },
     "output_type": "display_data"
    }
   ],
   "source": [
    "errors = np.where(y_test != clf.predict(X_test_scaled))\n",
    "\n",
    "print(errors)\n",
    "print(np.shape(errors))\n",
    "from random import sample\n",
    "nums=sample(list(errors[0]),12)\n",
    "print(nums)\n",
    "\n",
    "plt.figure(figsize=(10, 10))\n",
    "for i in range(12):\n",
    "    missclassified_plot=plt.subplot(4, 3, i + 1)\n",
    "    missclassified_plot.imshow(X_test[nums[i], :].reshape(28,28), cmap=\"gray\")\n",
    "    missclassified_plot.set_title(\"predicted label: %d\" % (clf.predict(X_test_scaled[nums[i], :].reshape(1, -1))))\n",
    "    missclassified_plot.axes.get_xaxis().set_visible(False)\n",
    "    missclassified_plot.axes.get_yaxis().set_visible(False)\n",
    "print('precision',errors[0].size/y_test.size)"
   ]
  },
  {
   "cell_type": "markdown",
   "metadata": {},
   "source": [
    "L'erreur (11%) est legerement plus faible que celle obtenu avec la méthode knn."
   ]
  },
  {
   "cell_type": "markdown",
   "metadata": {},
   "source": [
    "* Try to vary the size of the training set and see how that affects the accuracy."
   ]
  },
  {
   "cell_type": "code",
   "execution_count": 9,
   "metadata": {},
   "outputs": [
    {
     "name": "stdout",
     "output_type": "stream",
     "text": [
      "train_size: 10 score 0.2327\n",
      "train_size: 100 score 0.6996\n",
      "train_size: 1000 score 0.8431\n",
      "train_size: 10000 score 0.8787\n",
      "train_size: 20000 score 0.8875\n",
      "train_size: 30000 score 0.8779\n",
      "train_size: 40000 score 0.8843\n",
      "train_size: 50000 score 0.8841\n",
      "train_size: 60000 score 0.8831\n"
     ]
    }
   ],
   "source": [
    "sizes=[10,100,1000,10000,20000,30000,40000,50000,60000]\n",
    "for train_size in sizes:    \n",
    "    # pick training and test data sets \n",
    "    X_train, X_test, y_train, y_test = train_test_split(X,y,train_size=train_size,test_size=test_size)\n",
    "\n",
    "    # scale data to have zero mean and unit variance [required by regressor]\n",
    "    scaler = StandardScaler()\n",
    "    X_train_scaled = scaler.fit_transform(X_train)\n",
    "    X_test_scaled = scaler.transform(X_test)\n",
    "\n",
    "    # apply logistic regressor with 'sag' solver, C is the inverse regularization strength\n",
    "    clf = LogisticRegression(C=1e5,\n",
    "                             multi_class='multinomial', #Permet de faire une regression logistique de type soft max\n",
    "                             penalty='l2', solver='sag', tol=0.1)\n",
    "    # fit data\n",
    "    clf.fit(X_train_scaled, y_train)\n",
    "    # percentage of nonzero weights\n",
    "    sparsity = np.mean(clf.coef_ == 0) * 100\n",
    "    # compute accuracy\n",
    "    score = clf.score(X_test_scaled, y_test)\n",
    "\n",
    "\n",
    "\n",
    "    clf = LogisticRegression(C=1e5, #parametre de regularisation\n",
    "                             multi_class='multinomial', #Permet de faire une regression logistique de type soft max\n",
    "                             penalty='l1', solver='saga', tol=0.1)             #penalty = type de regularisation L1 lasso L2 ridge\n",
    "    clf.fit(X_train_scaled, y_train)\n",
    "\n",
    "    errors = np.where(y_test != clf.predict(X_test_scaled))\n",
    "    \n",
    "    score=clf.score(X_test_scaled,y_test)\n",
    "    print('train_size:',train_size,'score',score)"
   ]
  },
  {
   "cell_type": "markdown",
   "metadata": {},
   "source": [
    "\n",
    "\n",
    "*  [Theory] In this notebook, we considered a $K=10$ multi-class logistic regression (MLR) also known as the SoftMax regression. Recall that the our model reads:\n",
    "$$\n",
    "p(y=i|\\boldsymbol{x};W) = \\frac{e^{\\boldsymbol{w}_i^T \\boldsymbol{x}}}{\\sum_{j=0}^9 e^{\\boldsymbol{w}_j^T \\boldsymbol{x}}}\n",
    "$$\n",
    "Use this to construct the likelihood function $P(y|\\boldsymbol{x})$.\n",
    "\n",
    "\n",
    "\n"
   ]
  },
  {
   "cell_type": "markdown",
   "metadata": {},
   "source": [
    "$$P(\\mathcal{D}|{\\bf W})= \\prod_{i=1}^{n} \\prod_{j=1}^{K}\\frac{e^{\\boldsymbol{w}_j^T \\boldsymbol{x}}}{\\sum_{k=0}^9 e^{\\boldsymbol{w}_k^T \\boldsymbol{x}}}\\boldsymbol{x_i};W)$$\n",
    "$$=\\prod_{i=1}^{n} \\prod_{j=0}^{9} [P(y_{ij} =1||{\\bf x_i},{\\bf w_j})]^{y_{ij}}[1-P(y_ij =1||{\\bf x_i},{\\bf w_j})]^{1-y_{ij}}$$"
   ]
  },
  {
   "cell_type": "markdown",
   "metadata": {},
   "source": [
    "\n",
    "* [Theory] Now consider we're given a set of i.i.d. data $\\mathcal{D}=\\{(\\boldsymbol{x}_1,y_1),\\cdots, (\\boldsymbol{x}_n,y_n)\\}$. As we argued in the main text, the cross-entropy error used in logistic regression is motivated by maximizing the likelihood (or equivalently, minimizing the negative log-likelihood), find the corresponding error function $E(\\boldsymbol{w}_0,\\cdots,\\boldsymbol{w}_9)$ in MLR using the hypothesis above. \n",
    " $$E(\\boldsymbol{w}_0,\\cdots,\\boldsymbol{w}_9) = -\\log((P(y|\\boldsymbol{x})) = -\\sum_{i=1}^{n}\\sum_{m=0}^9 y_{im}\\log P(y_{im}=1|\\boldsymbol{x}_i,\\boldsymbol{w}_m) + (1-y_{im}) \\log[1-P(y_{im} = 1|\\boldsymbol{x}_i,\\boldsymbol{w}_m)]$$"
   ]
  },
  {
   "cell_type": "markdown",
   "metadata": {},
   "source": [
    "### BONUS### \n",
    "\n",
    "\n",
    "* [Theory] Using the error function derived above, calculate its gradient $\\frac{\\partial E}{\\partial \\boldsymbol{w}_k}$. Can you find an elegant way of writing the gradient?"
   ]
  },
  {
   "cell_type": "code",
   "execution_count": null,
   "metadata": {},
   "outputs": [],
   "source": []
  }
 ],
 "metadata": {
  "kernelspec": {
   "display_name": "Python 3",
   "language": "python",
   "name": "python3"
  },
  "language_info": {
   "codemirror_mode": {
    "name": "ipython",
    "version": 3
   },
   "file_extension": ".py",
   "mimetype": "text/x-python",
   "name": "python",
   "nbconvert_exporter": "python",
   "pygments_lexer": "ipython3",
   "version": "3.8.3"
  }
 },
 "nbformat": 4,
 "nbformat_minor": 1
}
