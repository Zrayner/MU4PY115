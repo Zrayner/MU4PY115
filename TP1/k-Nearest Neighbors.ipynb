{
 "cells": [
  {
   "cell_type": "code",
   "execution_count": 1,
   "metadata": {},
   "outputs": [],
   "source": [
    "%matplotlib inline\n",
    "import numpy as np\n",
    "import matplotlib.pyplot as plt\n",
    "plt.rcParams[\"figure.figsize\"] = (8, 8)\n",
    "plt.rcParams[\"font.size\"] = 14"
   ]
  },
  {
   "cell_type": "markdown",
   "metadata": {},
   "source": [
    "# Classification via k-Nearest Neighbors"
   ]
  },
  {
   "cell_type": "markdown",
   "metadata": {},
   "source": [
    "Générons d’abord des données synthétiques, ou artifcielles, avant de travailler avec des vrais problemes.   Notre modèle génératif sera un modèle de mélange gaussien (GMM, Gaussian Mixture Model): pour chaque classe, nous allons d'abord échantillonner 10 centroïdes différents\n",
    "${\\vec m}_k$ from $\\mathcal{N} ({\\vec 0}, I_2)$, puis choisissez des centroïdes au hasard et échantillonnez les données réelles de\n",
    "$\\mathcal{N} ({\\vec m}_k, \\frac{1}{5} I_2)$.\n",
    "\n",
    "Nous commençons par échantillonner les centroïdes et les tracer."
   ]
  },
  {
   "cell_type": "code",
   "execution_count": 4,
   "metadata": {},
   "outputs": [
    {
     "data": {
      "text/plain": [
       "Text(0.5, 1.0, 'Centroids')"
      ]
     },
     "execution_count": 4,
     "metadata": {},
     "output_type": "execute_result"
    },
    {
     "data": {
      "image/png": "[encoded data removed]",
      "text/plain": [
       "<Figure size 432x288 with 1 Axes>"
      ]
     },
     "metadata": {
      "needs_background": "light"
     },
     "output_type": "display_data"
    }
   ],
   "source": [
    "# Samples 10 centroids for each class from two different bivariate Normal distributions\n",
    "centroids_per_class = 10\n",
    "\n",
    "class0_centroids = [1, 0] + np.random.randn(centroids_per_class, 2)\n",
    "class1_centroids = [0, 1] + np.random.randn(centroids_per_class, 2)\n",
    "\n",
    "# Plot centroids\n",
    "plt.plot(class0_centroids[:, 0], class0_centroids[:, 1], \"o\", markersize=8)\n",
    "plt.plot(class1_centroids[:, 0], class1_centroids[:, 1], \"x\", markersize=8)\n",
    "plt.title(\"Centroids\")"
   ]
  },
  {
   "cell_type": "markdown",
   "metadata": {},
   "source": [
    "Une fois que nous avons les centroïdes, nous pouvons échantillonner les données réelles"
   ]
  },
  {
   "cell_type": "code",
   "execution_count": 5,
   "metadata": {},
   "outputs": [
    {
     "data": {
      "text/plain": [
       "Text(0.5, 1.0, 'Samples')"
      ]
     },
     "execution_count": 5,
     "metadata": {},
     "output_type": "execute_result"
    },
    {
     "data": {
      "image/png": "[encoded data removed]",
      "text/plain": [
       "<Figure size 432x288 with 1 Axes>"
      ]
     },
     "metadata": {
      "needs_background": "light"
     },
     "output_type": "display_data"
    }
   ],
   "source": [
    "samples_per_class = 100\n",
    "\n",
    "# Sample actual data sampling from Normal distributions positioned around the centroids\n",
    "class0_labels = np.random.randint(10, size = samples_per_class)\n",
    "class1_labels = np.random.randint(10, size = samples_per_class)\n",
    "\n",
    "class0_samples = class0_centroids[class0_labels, :] + np.sqrt(1. / 5) * np.random.randn(samples_per_class, 2)\n",
    "class1_samples = class1_centroids[class1_labels, :] + np.sqrt(1. / 5) * np.random.randn(samples_per_class, 2)\n",
    "\n",
    "# Plot data\n",
    "plt.plot(class0_samples[:, 0], class0_samples[:, 1], \"o\", markersize=8)\n",
    "plt.plot(class1_samples[:, 0], class1_samples[:, 1], \"x\", markersize=8)\n",
    "plt.title(\"Samples\")"
   ]
  },
  {
   "cell_type": "markdown",
   "metadata": {},
   "source": [
    "C’est le problème que nous voulons résoudre: on nous donne ces points et nous voulons trouver une frontière de décision assurant la généralisation, c’est-à-dire que nous pourrons classer correctement les nouveaux échantillons une fois qu’ils nous auront été fournis.\n",
    "\n",
    "Groupons les données de manière agréable. Pour les problèmes de classification binaire comme celui-ci, la manière dont les données sont arrangées est généralement toujours la même.\n",
    "- une matrice des données $ X $ de taille $ N \\times P $, où $ N $ est le nombre d'échantillons et $ P $ est le nombre de parametres (ou descripteurs/features) (dans notre cas, $ N = 200 $ et $ P = 2 $) ;\n",
    "- un vecteur de label $ y \\in \\{0, 1 \\} ^ N $ indiquant à quelle classe appartient chaque échantillon"
   ]
  },
  {
   "cell_type": "code",
   "execution_count": 6,
   "metadata": {},
   "outputs": [
    {
     "name": "stdout",
     "output_type": "stream",
     "text": [
      "[[-1.83993054  0.26291117]\n",
      " [ 1.77386445  1.59023315]\n",
      " [ 1.29172165  0.74283602]\n",
      " [ 0.9099227   0.06832302]\n",
      " [ 1.36805748  0.61410042]\n",
      " [ 1.2784422   1.70154997]\n",
      " [ 0.67266432 -1.25851387]\n",
      " [ 1.10417344  0.70138083]\n",
      " [ 0.74037497  0.27221135]\n",
      " [ 0.9050597  -0.13197968]\n",
      " [ 0.93855826 -0.0829923 ]\n",
      " [ 0.11596788  0.82816713]\n",
      " [ 1.87075347  0.85986017]\n",
      " [ 1.45082202  0.40982376]\n",
      " [ 0.93421619 -0.13857333]\n",
      " [-0.18160778  0.23849717]\n",
      " [ 1.28420368  0.11861436]\n",
      " [ 1.58346633  0.63014348]\n",
      " [ 0.75618498  0.25664195]\n",
      " [ 0.06748137 -1.30573929]\n",
      " [ 0.52378618  0.8111847 ]\n",
      " [ 1.27042146 -0.74001798]\n",
      " [ 0.95976188  1.03373503]\n",
      " [ 1.07732321  0.40101775]\n",
      " [ 0.66790824  0.44884177]\n",
      " [-1.08915858 -0.53553715]\n",
      " [ 0.62487557 -1.3016676 ]\n",
      " [ 1.79281463 -0.91238253]\n",
      " [ 0.39090036 -0.03952038]\n",
      " [ 2.38419723  0.57235909]\n",
      " [ 0.21790757 -0.30167357]\n",
      " [ 0.95640237  0.24933959]\n",
      " [ 2.43988866  1.29149794]\n",
      " [ 1.10237361 -1.27542742]\n",
      " [ 1.40041834 -0.60841828]\n",
      " [-1.19113697  0.09351802]\n",
      " [ 1.06889331 -0.91110399]\n",
      " [ 1.40855408 -0.22757701]\n",
      " [ 0.90348153  0.2904377 ]\n",
      " [ 0.83785514 -0.48432815]\n",
      " [ 1.64297009 -0.78453666]\n",
      " [ 2.00361371  0.64886758]\n",
      " [ 2.4762899  -0.45528262]\n",
      " [-1.37437302 -0.66731768]\n",
      " [ 1.27488605 -1.08113415]\n",
      " [ 0.00837468  0.43479808]\n",
      " [ 0.22387625  0.09141903]\n",
      " [ 0.34114891 -0.57980243]\n",
      " [ 2.02937801 -0.47456144]\n",
      " [ 1.07668789 -1.77908049]\n",
      " [ 1.88310101  0.63376349]\n",
      " [ 0.74472128 -0.32166639]\n",
      " [-0.04696274 -1.320007  ]\n",
      " [ 1.28566828 -0.47648403]\n",
      " [ 1.98562303 -0.03905765]\n",
      " [ 0.28462242  0.21644986]\n",
      " [ 0.2764396  -1.39937496]\n",
      " [ 1.1102641   0.51966346]\n",
      " [ 2.20034834  1.52823968]\n",
      " [ 1.36972219  0.32931334]\n",
      " [ 0.64166537 -0.33530177]\n",
      " [ 1.03007764  0.07354206]\n",
      " [ 1.83650464  0.65096925]\n",
      " [ 0.99903674 -1.41458529]\n",
      " [ 0.60386697 -0.52162392]\n",
      " [ 3.01538072 -1.08476977]\n",
      " [-0.30462892  0.71147092]\n",
      " [ 0.07433987  1.67904519]\n",
      " [ 0.66340719  0.59508829]\n",
      " [-0.57457007 -0.58760129]\n",
      " [ 1.33734453 -0.01719568]\n",
      " [ 0.79157436 -0.43342919]\n",
      " [ 0.81606519 -1.08769324]\n",
      " [ 0.65458061  0.35430883]\n",
      " [ 2.12420447 -1.79163557]\n",
      " [ 0.06569412  0.41256939]\n",
      " [ 0.87501645 -1.13792891]\n",
      " [ 1.97269159 -0.90094739]\n",
      " [ 1.16327273 -1.22197047]\n",
      " [ 2.12900473  0.93206962]\n",
      " [ 1.02457659  0.2625644 ]\n",
      " [ 1.24943326  0.24741307]\n",
      " [ 0.57349091  0.44263161]\n",
      " [ 0.6116102   0.27253434]\n",
      " [ 1.36146078 -0.53306094]\n",
      " [ 0.79899071 -1.58223986]\n",
      " [ 1.29294675  0.2728392 ]\n",
      " [ 1.35644388 -1.42581138]\n",
      " [ 0.93031898  0.41134671]\n",
      " [ 0.96304509 -1.66789047]\n",
      " [ 0.99957228 -0.49499812]\n",
      " [ 0.38320497 -0.0299227 ]\n",
      " [ 0.57085931 -0.97309366]\n",
      " [ 0.61842636  0.2622379 ]\n",
      " [ 0.98370723 -1.23355094]\n",
      " [-1.9763089  -0.64113432]\n",
      " [ 1.55662409  0.29838436]\n",
      " [ 0.35282534 -0.15070814]\n",
      " [ 1.23027515  0.3207978 ]\n",
      " [ 1.15945934 -0.66991579]\n",
      " [-0.74380597  2.22758652]\n",
      " [ 0.37295953  1.40579026]\n",
      " [-0.6671588   1.24762127]\n",
      " [-1.05836128 -0.35155221]\n",
      " [-0.84456381  2.89410215]\n",
      " [-0.42825533  1.4657598 ]\n",
      " [ 1.01859475  1.10121974]\n",
      " [-0.58241299  1.56596224]\n",
      " [-0.55172508  0.75940198]\n",
      " [-0.05522678  0.22365991]\n",
      " [-0.43749703  0.42320193]\n",
      " [ 0.60984427  0.68332946]\n",
      " [-0.3084847   2.27974821]\n",
      " [-0.56954065  2.79716169]\n",
      " [-1.10413232  0.67425092]\n",
      " [-0.7708512   1.09019348]\n",
      " [-0.05048961  0.59167533]\n",
      " [-0.22312276  0.93010229]\n",
      " [-0.98826901  0.72847793]\n",
      " [ 1.06747998  1.40622919]\n",
      " [ 0.97288493  0.23421389]\n",
      " [-0.61065913  1.20648216]\n",
      " [ 1.26321818  0.05223444]\n",
      " [-0.9745162   1.18627738]\n",
      " [-1.16665685  0.41891329]\n",
      " [-1.13210227  1.20917995]\n",
      " [-0.50668408  1.40670702]\n",
      " [-1.77064744  1.16049672]\n",
      " [ 0.39834276  0.66987812]\n",
      " [-0.99801703  0.74238436]\n",
      " [-1.2147305   0.67262418]\n",
      " [-0.95766189 -0.48255971]\n",
      " [-0.33316747  1.24392573]\n",
      " [-0.15419294  1.12378467]\n",
      " [ 0.44818574 -1.34102303]\n",
      " [-0.31500011  2.95606756]\n",
      " [-2.12938294  0.87944127]\n",
      " [-0.38815462  0.25535496]\n",
      " [-0.18141571  2.56671006]\n",
      " [-0.9344022  -1.13093616]\n",
      " [ 0.95946985  0.83419795]\n",
      " [-0.82648367 -0.63168174]\n",
      " [ 0.25216946 -0.64366154]\n",
      " [-0.09680158  1.00397384]\n",
      " [-0.19174242  0.95499065]\n",
      " [ 0.80895044  1.26595017]\n",
      " [-0.63819881 -0.08051011]\n",
      " [-0.50420181  1.38923767]\n",
      " [ 0.19886915 -0.58614345]\n",
      " [-0.23384244  1.07781886]\n",
      " [-0.28650362  1.70827566]\n",
      " [ 0.66982956  0.48590253]\n",
      " [-0.11661911  0.53582681]\n",
      " [ 0.22371043  0.35610321]\n",
      " [-0.19220046  0.20643802]\n",
      " [ 0.30173721  1.51917132]\n",
      " [ 0.41192939  1.1296733 ]\n",
      " [-0.42006165  0.86631592]\n",
      " [ 0.96401442  1.10712196]\n",
      " [ 1.10092608 -0.23451847]\n",
      " [-0.5115173   0.69787287]\n",
      " [-0.73340288  1.64289351]\n",
      " [-0.3910319   2.50559706]\n",
      " [-0.43883072 -0.0450038 ]\n",
      " [-1.02628614  0.17092717]\n",
      " [-0.51658875  0.94237565]\n",
      " [-0.53913696  2.57683615]\n",
      " [-0.99475413  0.28612153]\n",
      " [-0.2180942   0.01331893]\n",
      " [ 0.22465501  1.03117186]\n",
      " [ 0.69895007 -0.35768993]\n",
      " [-1.25594681  0.76550565]\n",
      " [ 1.08906722  0.69317902]\n",
      " [-1.13229641  2.95625156]\n",
      " [ 0.44777336  0.78865649]\n",
      " [-0.54830274  2.56412715]\n",
      " [-0.41809408  0.61286266]\n",
      " [-0.88313526  0.01023833]\n",
      " [-1.03815314  0.63460526]\n",
      " [-0.92421385  1.06118242]\n",
      " [-0.33551342  1.97433426]\n",
      " [ 1.28269877  0.91012469]\n",
      " [ 1.38136951  0.48516119]\n",
      " [-0.34333119  2.64895753]\n",
      " [-1.49486345  1.60738357]\n",
      " [ 0.4694392   0.63561698]\n",
      " [-0.39446211 -0.49689638]\n",
      " [-0.85563385  0.43780473]\n",
      " [-0.6827959   1.56439861]\n",
      " [ 0.45544246 -0.19964255]\n",
      " [-0.11037846  1.75262507]\n",
      " [-1.26590457  0.76081907]\n",
      " [ 0.15917956  1.65865876]\n",
      " [ 0.40678015 -0.65369045]\n",
      " [-0.61785444  2.54720387]\n",
      " [-0.09889942  1.77400657]\n",
      " [ 0.91199382  0.46413828]\n",
      " [-0.47980358  1.71127848]\n",
      " [-0.03763218  0.66024029]\n",
      " [-0.07596002  0.39375636]]\n",
      "[0. 0. 0. 0. 0. 0. 0. 0. 0. 0. 0. 0. 0. 0. 0. 0. 0. 0. 0. 0. 0. 0. 0. 0.\n",
      " 0. 0. 0. 0. 0. 0. 0. 0. 0. 0. 0. 0. 0. 0. 0. 0. 0. 0. 0. 0. 0. 0. 0. 0.\n",
      " 0. 0. 0. 0. 0. 0. 0. 0. 0. 0. 0. 0. 0. 0. 0. 0. 0. 0. 0. 0. 0. 0. 0. 0.\n",
      " 0. 0. 0. 0. 0. 0. 0. 0. 0. 0. 0. 0. 0. 0. 0. 0. 0. 0. 0. 0. 0. 0. 0. 0.\n",
      " 0. 0. 0. 0. 1. 1. 1. 1. 1. 1. 1. 1. 1. 1. 1. 1. 1. 1. 1. 1. 1. 1. 1. 1.\n",
      " 1. 1. 1. 1. 1. 1. 1. 1. 1. 1. 1. 1. 1. 1. 1. 1. 1. 1. 1. 1. 1. 1. 1. 1.\n",
      " 1. 1. 1. 1. 1. 1. 1. 1. 1. 1. 1. 1. 1. 1. 1. 1. 1. 1. 1. 1. 1. 1. 1. 1.\n",
      " 1. 1. 1. 1. 1. 1. 1. 1. 1. 1. 1. 1. 1. 1. 1. 1. 1. 1. 1. 1. 1. 1. 1. 1.\n",
      " 1. 1. 1. 1. 1. 1. 1. 1.]\n"
     ]
    }
   ],
   "source": [
    "X = np.vstack((class0_samples, class1_samples))\n",
    "y = np.hstack((np.zeros(samples_per_class), np.ones(samples_per_class)))\n",
    "\n",
    "print(X)\n",
    "print(y)\n",
    "\n",
    "n_samples, n_features = np.shape(X)"
   ]
  },
  {
   "cell_type": "markdown",
   "metadata": {},
   "source": [
    "Ensuite, nous calculons la matrice de distance, une matrice $ N \\times N $ contenant la distance entre chaque échantillon et tous les autres (en avons-nous vraiment besoin?)\n",
    "\n",
    "**Exercice** : calculez la matrice de distance."
   ]
  },
  {
   "cell_type": "code",
   "execution_count": 8,
   "metadata": {},
   "outputs": [
    {
     "data": {
      "text/plain": [
       "array([[0.        , 3.84984388, 3.16821295, ..., 1.98688531, 1.84557574,\n",
       "        1.76881668],\n",
       "       [3.84984388, 0.        , 0.97495825, ..., 2.25691639, 2.03627276,\n",
       "        2.20304501],\n",
       "       [3.16821295, 0.97495825, 0.        , ..., 2.01895578, 1.33191728,\n",
       "        1.41152745],\n",
       "       ...,\n",
       "       [1.98688531, 2.25691639, 2.01895578, ..., 0.        , 1.14026174,\n",
       "        1.37802546],\n",
       "       [1.84557574, 2.03627276, 1.33191728, ..., 1.14026174, 0.        ,\n",
       "        0.26922613],\n",
       "       [1.76881668, 2.20304501, 1.41152745, ..., 1.37802546, 0.26922613,\n",
       "        0.        ]])"
      ]
     },
     "execution_count": 8,
     "metadata": {},
     "output_type": "execute_result"
    }
   ],
   "source": [
    "def compute_distances(X):\n",
    "    distances = np.zeros((2*samples_per_class,2*samples_per_class))\n",
    "    for i in range(2*samples_per_class):\n",
    "        for j in range(i+1,2*(samples_per_class)):\n",
    "            distances[i][j] = ((X[i][0] - X[j][0])**2 + (X[i][1] - X[j][1])**2)**(1/2)\n",
    "            distances[j][i] = distances[i][j] \n",
    "    return distances\n",
    "compute_distances(X)"
   ]
  },
  {
   "cell_type": "markdown",
   "metadata": {},
   "source": [
    "Nous ne voulons pas vraiment utiliser les boucles en Python, alors re-ecrivez cette routines sans boucles!"
   ]
  },
  {
   "cell_type": "code",
   "execution_count": 9,
   "metadata": {},
   "outputs": [
    {
     "name": "stdout",
     "output_type": "stream",
     "text": [
      "62 ms ± 4.59 ms per loop (mean ± std. dev. of 7 runs, 10 loops each)\n",
      "[[0.         3.84984388 3.16821295 ... 1.98688531 1.84557574 1.76881668]\n",
      " [3.84984388 0.         0.97495825 ... 2.25691639 2.03627276 2.20304501]\n",
      " [3.16821295 0.97495825 0.         ... 2.01895578 1.33191728 1.41152745]\n",
      " ...\n",
      " [1.98688531 2.25691639 2.01895578 ... 0.         1.14026174 1.37802546]\n",
      " [1.84557574 2.03627276 1.33191728 ... 1.14026174 0.         0.26922613]\n",
      " [1.76881668 2.20304501 1.41152745 ... 1.37802546 0.26922613 0.        ]]\n",
      "1.44 ms ± 170 µs per loop (mean ± std. dev. of 7 runs, 1000 loops each)\n",
      "[[0.         3.84984388 3.16821295 ... 1.98688531 1.84557574 1.76881668]\n",
      " [3.84984388 0.         0.97495825 ... 2.25691639 2.03627276 2.20304501]\n",
      " [3.16821295 0.97495825 0.         ... 2.01895578 1.33191728 1.41152745]\n",
      " ...\n",
      " [1.98688531 2.25691639 2.01895578 ... 0.         1.14026174 1.37802546]\n",
      " [1.84557574 2.03627276 1.33191728 ... 1.14026174 0.         0.26922613]\n",
      " [1.76881668 2.20304501 1.41152745 ... 1.37802546 0.26922613 0.        ]]\n"
     ]
    }
   ],
   "source": [
    "distances = compute_distances(X)\n",
    "%timeit compute_distances(X)\n",
    "print(distances)\n",
    "\n",
    "# Try to create a function without any loop\n",
    "\n",
    "def compute_distances_no_loop(X):\n",
    "    \n",
    "    return distances\n",
    "\n",
    "\"\"\"\"distances = compute_distances_no_loop(X)\n",
    "%timeit compute_distances_no_loop(X)\n",
    "print(distances)\"\"\"\n",
    "\n",
    "# Compare your function with one that someone already wrote in C\n",
    "# Look for such a function in the documentation of scipy and replace the ???\n",
    "from scipy.spatial import distance_matrix\n",
    "distances = distance_matrix(X, X)\n",
    "%timeit distance_matrix(X, X)\n",
    "print(distances)"
   ]
  },
  {
   "cell_type": "markdown",
   "metadata": {},
   "source": [
    "En utilisant la matrice de distance, nous pouvons maintenant écrire notre algorithme!\n",
    "\n",
    "**Exercice**: écrivez une fonction qui calcule l'estimation du voisin $ k $ le plus proche pour chaque point de l'ensemble d'apprentissage. Astuce: recherchez la fonction `np.argpartition`. Quelle est l'erreur de formation?"
   ]
  },
  {
   "cell_type": "code",
   "execution_count": 10,
   "metadata": {},
   "outputs": [
    {
     "name": "stdout",
     "output_type": "stream",
     "text": [
      "[0 4 1 2 3]\n"
     ]
    }
   ],
   "source": [
    "#?np.argpartition\n",
    "x=[1,5,8,65,3]\n",
    "x2=np.argpartition(x,3)\n",
    "print(x2)"
   ]
  },
  {
   "cell_type": "code",
   "execution_count": 11,
   "metadata": {},
   "outputs": [
    {
     "name": "stdout",
     "output_type": "stream",
     "text": [
      "[1. 0. 0. 0. 0. 1. 0. 0. 0. 0. 0. 1. 0. 0. 0. 1. 0. 0. 0. 0. 1. 0. 1. 0.\n",
      " 0. 1. 0. 0. 0. 0. 0. 0. 0. 0. 0. 1. 0. 0. 0. 0. 0. 0. 0. 1. 0. 1. 0. 1.\n",
      " 0. 0. 0. 0. 0. 0. 0. 0. 0. 0. 0. 0. 0. 0. 0. 0. 0. 0. 1. 1. 1. 1. 0. 0.\n",
      " 0. 0. 0. 1. 0. 0. 0. 0. 0. 0. 0. 0. 0. 0. 0. 0. 0. 0. 0. 0. 0. 0. 0. 0.\n",
      " 0. 0. 0. 0. 1. 1. 1. 1. 1. 1. 1. 1. 1. 1. 1. 0. 1. 1. 1. 1. 1. 1. 1. 1.\n",
      " 0. 1. 0. 1. 1. 1. 1. 1. 1. 1. 1. 1. 1. 1. 0. 1. 1. 1. 1. 1. 1. 1. 0. 1.\n",
      " 1. 1. 1. 1. 0. 1. 1. 0. 1. 1. 1. 1. 1. 1. 1. 0. 1. 1. 1. 1. 1. 1. 1. 1.\n",
      " 1. 1. 0. 1. 0. 1. 1. 1. 1. 1. 1. 1. 1. 0. 0. 1. 1. 0. 1. 1. 1. 0. 1. 1.\n",
      " 1. 0. 1. 1. 0. 1. 1. 1.]\n",
      "0.16\n"
     ]
    }
   ],
   "source": [
    "def knn(X, y, k):\n",
    "    distances=distance_matrix(X,X)\n",
    "    estimate=np.array([])\n",
    "    for vecteur in distances:\n",
    "        estimation=0\n",
    "        vecteurttrie=np.argpartition(vecteur,k) #argpartition retourne un tableau d'indice pour avoir les \n",
    "                                                #indices des k premiers voisins dans les k premieres cases\n",
    "        \n",
    "        for a in range(1,k): #On s'interesse au k premieres cases du tableau d'indice correspondant au knns\n",
    "            estimation=estimation+y[vecteurttrie[a]]\n",
    "        estimation=np.round(estimation/9)    #notre estimation est l'arrondi de la moyenne des valeurs des knns\n",
    "        estimate=np.append(estimate,estimation)    \n",
    "    return estimate\n",
    "\n",
    "est_labels = knn(X, y, 10)\n",
    "print(est_labels)\n",
    "\n",
    "# Let us compute the training error\n",
    "train_error = np.mean(y != est_labels)\n",
    "print(train_error)"
   ]
  },
  {
   "cell_type": "markdown",
   "metadata": {},
   "source": [
    "La première moitié du vecteur devrait être composée uniquement de 0 et la seconde moitié devrait être composée de 1; nous pouvons voir cependant qu'il y a des erreurs. Laissez-nous les comploter pour essayer de comprendre ce qui se passe."
   ]
  },
  {
   "cell_type": "code",
   "execution_count": 12,
   "metadata": {},
   "outputs": [
    {
     "data": {
      "text/plain": [
       "[<matplotlib.lines.Line2D at 0x1fd938dff28>]"
      ]
     },
     "execution_count": 12,
     "metadata": {},
     "output_type": "execute_result"
    },
    {
     "data": {
      "image/png": "[encoded data removed]",
      "text/plain": [
       "<Figure size 432x288 with 1 Axes>"
      ]
     },
     "metadata": {
      "needs_background": "light"
     },
     "output_type": "display_data"
    }
   ],
   "source": [
    "# Plot data\n",
    "plt.plot(X[y == 0, 0], X[y == 0, 1], \"o\", markersize=8)\n",
    "plt.plot(X[y == 1, 0], X[y == 1, 1], \"x\", markersize=8)\n",
    "\n",
    "# Draw a red circle around misclassified samples\n",
    "errors = (y != est_labels)\n",
    "plt.plot(X[errors, 0], X[errors, 1], \"o\", color=\"red\", markeredgewidth=3, markerfacecolor=\"white\", markersize=12, alpha=0.5)\n",
    "#plt.plot(X[errors, 0], X[errors, 1], \"o\", color=\"red\", mew=3, mfc=\"white\", ms=12, alpha=0.5)"
   ]
  },
  {
   "cell_type": "markdown",
   "metadata": {},
   "source": [
    "Comme on pouvait s'y attendre, des erreurs se produisent dans des régions où la majorité des points appartiennent à l'autre classe.\n",
    "\n",
    "Mais que se passe-t-il lorsque nous essayons de classer des points qui ne sont pas dans le set d'entrainement (le training set)? Il y a plusieurs façons d'évaluer cela. Par exemple, nous aurions pu utiliser seulement une partie de nos données dans l'ensemble de formation (environ 80%) et utiliser le reste pour calculer l'erreur dite de test.\n",
    "Puisque dans notre cas cependant le modèle génératif est connu, nous pourrions aussi bien en extraire davantage d’échantillons."
   ]
  },
  {
   "cell_type": "code",
   "execution_count": 13,
   "metadata": {},
   "outputs": [
    {
     "name": "stdout",
     "output_type": "stream",
     "text": [
      "[[2.00456601 2.42456731 4.53259424 ... 1.82450695 1.28598648 3.24101043]\n",
      " [2.19340417 2.09371156 1.90764694 ... 3.13931175 2.67008785 0.66518082]\n",
      " [1.29967896 1.12853976 1.61754967 ... 2.92047777 1.90233526 0.88397781]\n",
      " ...\n",
      " [1.72713664 2.0970249  3.63579172 ... 0.90933461 1.43063637 1.59208929]\n",
      " [0.58752313 0.97400744 2.81804387 ... 1.87784036 0.63981739 1.48736509]\n",
      " [0.37086098 0.80921863 2.79692109 ... 2.05477034 0.49089138 1.69634752]]\n",
      "(200, 20000)\n"
     ]
    }
   ],
   "source": [
    "# Sample test data from the model\n",
    "import scipy.spatial.distance\n",
    "testsamples_per_class = 10000\n",
    "\n",
    "class0_testlabels = np.random.randint(10, size = testsamples_per_class)\n",
    "class1_testlabels = np.random.randint(10, size = testsamples_per_class)\n",
    "class0_testsamples = class0_centroids[class0_testlabels, :] + np.sqrt(1. / 5) * np.random.randn(testsamples_per_class, 2)\n",
    "class1_testsamples = class1_centroids[class1_testlabels, :] + np.sqrt(1. / 5) * np.random.randn(testsamples_per_class, 2)\n",
    "\n",
    "X_test = np.vstack((class0_testsamples, class1_testsamples))\n",
    "y_test = np.hstack((np.zeros(testsamples_per_class), np.ones(testsamples_per_class)))\n",
    "\n",
    "# Compute distance matrix between X and X_test\n",
    "distances_test = scipy.spatial.distance.cdist(X, X_test)\n",
    "print(distances_test)\n",
    "print(np.shape(distances_test))"
   ]
  },
  {
   "cell_type": "code",
   "execution_count": 14,
   "metadata": {},
   "outputs": [
    {
     "data": {
      "text/plain": [
       "[<matplotlib.lines.Line2D at 0x1fd939013c8>]"
      ]
     },
     "execution_count": 14,
     "metadata": {},
     "output_type": "execute_result"
    },
    {
     "data": {
      "image/png": "[encoded data removed]",
      "text/plain": [
       "<Figure size 432x288 with 1 Axes>"
      ]
     },
     "metadata": {
      "needs_background": "light"
     },
     "output_type": "display_data"
    }
   ],
   "source": [
    "# Plot test data\n",
    "plt.plot(X_test[y_test == 0, 0], X_test[y_test == 0, 1], \"o\", ms=8)\n",
    "plt.plot(X_test[y_test == 1, 0], X_test[y_test == 1, 1], \"x\", ms=8)"
   ]
  },
  {
   "cell_type": "markdown",
   "metadata": {},
   "source": [
    "Nous écrivons maintenant une fonction similaire à `knn` qui calcule les estimations non pas pour les points du jeu d’entraînement, mais pour les points d’un nouveau * test *."
   ]
  },
  {
   "cell_type": "code",
   "execution_count": 15,
   "metadata": {
    "scrolled": true
   },
   "outputs": [
    {
     "name": "stdout",
     "output_type": "stream",
     "text": [
      "[0. 0. 0. ... 1. 1. 1.]\n",
      "0.17905\n"
     ]
    }
   ],
   "source": [
    "def knn_test(X_train, y_train, X_test, y_test, k): #On compare les valeurs de test à leur estimation obetnu par le set de train\n",
    "    distances_test = distance_matrix(X_test, X_train)\n",
    "    estimate=np.array([])\n",
    "    n=0\n",
    "    for vecteur in distances_test: #On parcours les 20000 vecteur distances de taille 200 associés a chaque points de l'ensemble de test\n",
    "        estimation=0\n",
    "        vecteurttrie=np.argpartition(vecteur,k)\n",
    "        for a in range(k): #Meme fonctionement que pour la fonction knn\n",
    "            estimation=estimation+y_train[vecteurttrie[a]]\n",
    "        estimation=np.round(estimation/10)    \n",
    "        estimate=np.append(estimate,estimation) \n",
    "    return estimate\n",
    "\n",
    "est_testlabels = knn_test(X, y, X_test, y_test, 10)\n",
    "print(est_testlabels)\n",
    "\n",
    "# Let us compute the test error, now\n",
    "print(np.mean(y_test != est_testlabels)) #L'erreur trouvé est sensiblement plus élévé que celle obtenu avec knn\n",
    "#pour l'ensemble de train, ce qui est logique puisqu'on a ici enlevé le biais lié au fait qu'on testait et entrainais\n",
    "#avec le meme ensemble de points."
   ]
  },
  {
   "cell_type": "markdown",
   "metadata": {},
   "source": [
    "L’un des problèmes que nous rencontrons lorsque nous utilisons les l'algorithme kNN est qu’il faut choisir une valeur pour $ k $ - en principe, on ne sait pas comment le faire!\n",
    "Pour mieux comprendre cela, voyons comment se comportent les erreurs d’entraînement et de test en fonction de $ k $."
   ]
  },
  {
   "cell_type": "code",
   "execution_count": 16,
   "metadata": {},
   "outputs": [
    {
     "name": "stdout",
     "output_type": "stream",
     "text": [
      "k = 1; train error = 0.5, test error = 0.5\n",
      "k = 2; train error = 0.5, test error = 0.5\n",
      "k = 3; train error = 0.5, test error = 0.5\n",
      "k = 4; train error = 0.5, test error = 0.5\n",
      "k = 5; train error = 0.5, test error = 0.5\n",
      "k = 6; train error = 0.275, test error = 0.29345\n",
      "k = 7; train error = 0.2, test error = 0.20795\n",
      "k = 8; train error = 0.18, test error = 0.1863\n",
      "k = 9; train error = 0.165, test error = 0.181\n",
      "k = 10; train error = 0.16, test error = 0.17905\n",
      "k = 11; train error = 0.155, test error = 0.19255\n",
      "k = 12; train error = 0.155, test error = 0.19555\n",
      "k = 13; train error = 0.17, test error = 0.19975\n",
      "k = 14; train error = 0.155, test error = 0.2043\n",
      "k = 15; train error = 0.325, test error = 0.3506\n",
      "k = 16; train error = 0.43, test error = 0.43615\n",
      "k = 17; train error = 0.47, test error = 0.49255\n",
      "k = 18; train error = 0.5, test error = 0.5183\n",
      "k = 19; train error = 0.535, test error = 0.56085\n"
     ]
    },
    {
     "data": {
      "text/plain": [
       "Text(0, 0.5, 'misclassification error')"
      ]
     },
     "execution_count": 16,
     "metadata": {},
     "output_type": "execute_result"
    },
    {
     "data": {
      "image/png": "[encoded data removed]",
      "text/plain": [
       "<Figure size 432x288 with 1 Axes>"
      ]
     },
     "metadata": {
      "needs_background": "light"
     },
     "output_type": "display_data"
    }
   ],
   "source": [
    "# Convenience functions that compute the training and test errors, given training and test samples\n",
    "def compute_train_error(X, y, k=1):\n",
    "    y_hat = knn(X, y, k)\n",
    "    return np.mean(y != y_hat)\n",
    "    \n",
    "def compute_test_error(X_train, y_train, X_test, y_test, k=1):\n",
    "    y_hat = knn_test(X_train, y_train, X_test, y_test, k)\n",
    "    return np.mean(y_test != y_hat)\n",
    "\n",
    "# Run functions for k belonging to a range of values\n",
    "ks = np.arange(1, 20)\n",
    "train_error = []\n",
    "test_error = []\n",
    "for (i, k) in enumerate(ks):\n",
    "    train_error.append(compute_train_error(X, y, k))\n",
    "    test_error.append(compute_test_error(X, y, X_test, y_test, k))\n",
    "    print(\"k = %d; train error = %g, test error = %g\" % (k, train_error[-1], test_error[-1]))\n",
    "\n",
    "# Plot results\n",
    "plt.plot(ks, train_error, label = \"train\")\n",
    "plt.plot(ks, test_error, label = \"test\")\n",
    "plt.legend()\n",
    "plt.xlabel(r\"$k$\")\n",
    "plt.ylabel(\"misclassification error\")"
   ]
  },
  {
   "cell_type": "markdown",
   "metadata": {},
   "source": [
    "Il est instructif d’utiliser une autre quantité sur l’axe des x au lieu de $k$: le nombre de degrés de liberté $N / k$. En effet, plus le nombre $k$ est grand,   plus le nombre de paramètres effectifs est petit - pensons par exemple à la limite $k = N$ ,  où tout le monde se voit attribuer le meme label!"
   ]
  },
  {
   "cell_type": "code",
   "execution_count": 17,
   "metadata": {},
   "outputs": [
    {
     "name": "stdout",
     "output_type": "stream",
     "text": [
      "k = 1; train error = 0.5, test error = 0.5\n",
      "k = 2; train error = 0.5, test error = 0.5\n",
      "k = 3; train error = 0.5, test error = 0.5\n",
      "k = 4; train error = 0.5, test error = 0.5\n",
      "k = 5; train error = 0.5, test error = 0.5\n",
      "k = 6; train error = 0.275, test error = 0.29345\n",
      "k = 7; train error = 0.2, test error = 0.20795\n",
      "k = 8; train error = 0.18, test error = 0.1863\n",
      "k = 9; train error = 0.165, test error = 0.181\n",
      "k = 10; train error = 0.16, test error = 0.17905\n",
      "k = 40; train error = 0.865, test error = 0.87125\n",
      "k = 70; train error = 0.99, test error = 0.9971\n",
      "k = 100; train error = 1, test error = 1\n",
      "k = 130; train error = 1, test error = 1\n"
     ]
    },
    {
     "data": {
      "text/plain": [
       "(0.0, 0.5)"
      ]
     },
     "execution_count": 17,
     "metadata": {},
     "output_type": "execute_result"
    },
    {
     "data": {
      "image/png": "[encoded data removed]",
      "text/plain": [
       "<Figure size 432x288 with 1 Axes>"
      ]
     },
     "metadata": {
      "needs_background": "light"
     },
     "output_type": "display_data"
    }
   ],
   "source": [
    "# Re-run the experiment above for a different range of values\n",
    "ks = np.r_[np.arange(1, 10), np.arange(10, 150, 30)]\n",
    "train_error = []\n",
    "test_error = []\n",
    "for k in ks:\n",
    "    train_error.append(compute_train_error(X, y, k))\n",
    "    test_error.append(compute_test_error(X, y, X_test, y_test, k))\n",
    "    print(\"k = %d; train error = %g, test error = %g\" % (k, train_error[-1], test_error[-1]))\n",
    "\n",
    "# Plot error as a function of the degrees of freedom\n",
    "plt.plot(len(y) / np.array(ks), train_error, \"-o\", label = \"train\")\n",
    "plt.plot(len(y) / np.array(ks), test_error, \"-o\", label = \"test\")\n",
    "plt.legend()\n",
    "plt.xlabel(r\"degrees of freedom $N / k$\")\n",
    "plt.ylabel(\"misclassification error\")\n",
    "plt.ylim((0.0, 0.5))"
   ]
  },
  {
   "cell_type": "markdown",
   "metadata": {},
   "source": [
    "Ce graphique rend explicite le fameux * compromis biais-variance * qui apparaît dans toutes les études statistiques. Si nous avons plus de paramètres, nous pouvons obtenir une erreur d’entraînement réduite, mais l’erreur de test (par analogie, de généralisation) augmente en fait, ce qui signifie que nous sur-ajustons (over-fitting en anglais)"
   ]
  },
  {
   "cell_type": "markdown",
   "metadata": {},
   "source": [
    "## A Python library for Machine Learning: scikit-learn"
   ]
  },
  {
   "cell_type": "markdown",
   "metadata": {},
   "source": [
    "Vous avez peut-être remarqué que l'exécution de notre implémentation $ k $ -NN pour 20000 échantillons commençait déjà à sembler un peu lente… C'est parce qu'elle n'est pas vraiment optimisée. Si nous voulions que les choses soient rapides, nous devrions recourir à du code C, en utilisant des extensions Python telles que Cython ou ctypes (c'est en fait ce que font pour nous des paquets tels que Numpy et Scipy).\n",
    "De plus, nous avons fait les choses très naïvement - par exemple, il n’est pas nécessaire de calculer la matrice de distance complète si on utilise des structures de données appropriées telles que kd-trees, etc.\n",
    "\n",
    "Heureusement pour nous, il y a des gens qui ont déjà écrit des versions optimisées de la plupart des algorithmes d'apprentissage automatique standard! L'un des package les. plus populaire est le projet scikit-learn, wui a débuté sous le nom de scikits.learn, un projet Google Summer of Code de David Cournapeau.  Elle est développée par de nombreux contributeurs, et notamment dans le monde académique par des instituts français d'enseignement supérieur et de recherche."
   ]
  },
  {
   "cell_type": "markdown",
   "metadata": {},
   "source": [
    "![scikit-learn website](sklearn.png)"
   ]
  },
  {
   "cell_type": "markdown",
   "metadata": {},
   "source": [
    "Voyons maintenant comment fonctionne l'implémentation k-NN de scikit-learn. Une chose intéressante à propos de scikit-learn est qu’ils ont de nombreux exemples disponibles en ligne. Nous pouvons donc simplement rechercher quelque chose de similaire à ce que nous essayons de faire. Pour la classification k-NN en particulier, il y a cette: http://scikit-learn.org/stable/auto_examples/neighbors/plot_classification.html#sphx-glr-auto-examples-neighbors-plot-classification-py"
   ]
  },
  {
   "cell_type": "code",
   "execution_count": 18,
   "metadata": {},
   "outputs": [
    {
     "data": {
      "text/plain": [
       "KNeighborsClassifier(algorithm='auto', leaf_size=30, metric='minkowski',\n",
       "           metric_params=None, n_jobs=None, n_neighbors=10, p=2,\n",
       "           weights='uniform')"
      ]
     },
     "execution_count": 18,
     "metadata": {},
     "output_type": "execute_result"
    }
   ],
   "source": [
    "from sklearn import neighbors\n",
    "clf = neighbors.KNeighborsClassifier(10)\n",
    "clf.fit(X, y)"
   ]
  },
  {
   "cell_type": "markdown",
   "metadata": {},
   "source": [
    "Et fait! Avec seulement trois lignes de code, nous avons pu répéter tout ce que nous avions fait jusqu'à présent. Voyons si nous obtenons la même erreur d’entraînement que précédemment."
   ]
  },
  {
   "cell_type": "code",
   "execution_count": 19,
   "metadata": {},
   "outputs": [
    {
     "name": "stdout",
     "output_type": "stream",
     "text": [
      "train/test error (for k = 10): 0.16/0.17905\n"
     ]
    }
   ],
   "source": [
    "train_error = np.mean(y != clf.predict(X))\n",
    "test_error = np.mean(y_test != clf.predict(X_test))\n",
    "#train_error = 1. - clf.score(X, y)\n",
    "#test_error = 1. - clf.score(X_test, y_test)\n",
    "\n",
    "print(\"train/test error (for k = 10): %g/%g\" % (train_error, test_error))"
   ]
  },
  {
   "cell_type": "markdown",
   "metadata": {},
   "source": [
    "Puisque les choses sont optimisées ici, nous pouvons même faire des choses plus cool, comme tracer les limites de décision réelles. Pour ce faire, générons une grille et calculons l'estimation pour chaque point de cette grille."
   ]
  },
  {
   "cell_type": "code",
   "execution_count": 20,
   "metadata": {},
   "outputs": [
    {
     "data": {
      "text/plain": [
       "[<matplotlib.lines.Line2D at 0x1fd938f5550>]"
      ]
     },
     "execution_count": 20,
     "metadata": {},
     "output_type": "execute_result"
    },
    {
     "data": {
      "image/png": "[encoded data removed]",
      "text/plain": [
       "<Figure size 432x288 with 1 Axes>"
      ]
     },
     "metadata": {
      "needs_background": "light"
     },
     "output_type": "display_data"
    }
   ],
   "source": [
    "# Create a grid\n",
    "xx, yy = np.meshgrid(np.linspace(-5, 5, 101), np.linspace(-5, 5, 101))\n",
    "zz = clf.predict(np.c_[xx.ravel(), yy.ravel()])\n",
    "\n",
    "# Do some plotting\n",
    "zz = zz.reshape(xx.shape)\n",
    "plt.pcolormesh(xx, yy, zz, cmap = \"coolwarm\", alpha = 0.2)\n",
    "plt.plot(X[y == 0, 0], X[y == 0, 1], \"o\", markersize=8)\n",
    "plt.plot(X[y == 1, 0], X[y == 1, 1], \"x\", markersize=8)"
   ]
  },
  {
   "cell_type": "markdown",
   "metadata": {},
   "source": [
    "### Determining the best value of $k$ by cross-validation"
   ]
  },
  {
   "cell_type": "markdown",
   "metadata": {},
   "source": [
    "Une façon de déterminer la \"meilleure\" valeur de $ k $ consiste à partitionner notre ensemble de données en deux (ensembles de formation et de validation), puis à ajuster sa valeur de manière à minimiser l’erreur de validation (nous avons ensuite besoin d’un troisième ensemble permettant de calculer les valeurs). erreur de test - ne jamais ajuster vos paramètres et calculer l'erreur de test en utilisant le même ensemble!)\n",
    "\n",
    "Cependant, cela ne nous fournit pas de bonnes statistiques car le partitionnement n’est effectué qu’une seule fois; une meilleure façon de le faire consiste à partitionner le jeu de données à plusieurs reprises et à recalculer le score. C'est l'idée derrière la validation croisée.\n",
    "\n",
    "scikit-learn a de belles fonctions pratiques pour effectuer une validation croisée (cross-validation) a nous proposer. Nous l'utiliserons souvent par la suite:"
   ]
  },
  {
   "cell_type": "code",
   "execution_count": 21,
   "metadata": {},
   "outputs": [
    {
     "name": "stdout",
     "output_type": "stream",
     "text": [
      "{'n_neighbors': 7}\n",
      "[0.78  0.79  0.815 0.795 0.83  0.835 0.84  0.835 0.84  0.83  0.825 0.83\n",
      " 0.84  0.825 0.835 0.83  0.84  0.835 0.84 ]\n"
     ]
    },
    {
     "name": "stderr",
     "output_type": "stream",
     "text": [
      "C:\\Users\\ewenf\\Anaconda3\\lib\\site-packages\\sklearn\\model_selection\\_split.py:2053: FutureWarning: You should specify a value for 'cv' instead of relying on the default value. The default value will change from 3 to 5 in version 0.22.\n",
      "  warnings.warn(CV_WARNING, FutureWarning)\n",
      "C:\\Users\\ewenf\\Anaconda3\\lib\\site-packages\\sklearn\\model_selection\\_search.py:841: DeprecationWarning: The default of the `iid` parameter will change from True to False in version 0.22 and will be removed in 0.24. This will change numeric results when test-set sizes are unequal.\n",
      "  DeprecationWarning)\n"
     ]
    }
   ],
   "source": [
    "from sklearn.model_selection import GridSearchCV\n",
    "\n",
    "# Set up the grid search\n",
    "parameters = [{'n_neighbors': np.arange(1, 20)}]\n",
    "clf = GridSearchCV(neighbors.KNeighborsClassifier(n_neighbors = 1), parameters)\n",
    "clf.fit(X, y)\n",
    "# Print results\n",
    "print(clf.best_params_)\n",
    "print(clf.cv_results_[\"mean_test_score\"])"
   ]
  },
  {
   "cell_type": "markdown",
   "metadata": {},
   "source": [
    "Voyons comment cela fonctionne sur le test-set:"
   ]
  },
  {
   "cell_type": "code",
   "execution_count": 22,
   "metadata": {},
   "outputs": [
    {
     "name": "stdout",
     "output_type": "stream",
     "text": [
      "train/test error (for optimal k): 0.17/0.18795\n"
     ]
    }
   ],
   "source": [
    "clf = neighbors.KNeighborsClassifier(18)\n",
    "clf.fit(X, y)\n",
    "\n",
    "train_error = np.mean(y != clf.predict(X))\n",
    "test_error = np.mean(y_test != clf.predict(X_test))\n",
    "print(\"train/test error (for optimal k): %g/%g\" % (train_error, test_error))"
   ]
  },
  {
   "cell_type": "markdown",
   "metadata": {},
   "source": [
    "## Classification on real datasets: MNIST"
   ]
  },
  {
   "cell_type": "markdown",
   "metadata": {},
   "source": [
    "Enfin, laissez-nous travailler avec un vrai jeu de données! Si vous avez déjà étudié un peu de machine learning et de statistiques, vous connaissez probablement le jeu de données MNIST composé de chiffres manuscrits. C'est l'un des ensembles de données les plus célèbres utilisés pour l'analyse comparative des algorithmes de classification et de classification.\n",
    "\n",
    "Il est également inclus dans scikit-learn:"
   ]
  },
  {
   "cell_type": "code",
   "execution_count": 23,
   "metadata": {},
   "outputs": [],
   "source": [
    "from sklearn.datasets import fetch_openml\n",
    "mnist = fetch_openml('mnist_784')"
   ]
  },
  {
   "cell_type": "markdown",
   "metadata": {},
   "source": [
    "Jetons un coup d'oeil aux données pour voir à quoi elles ressemblent."
   ]
  },
  {
   "cell_type": "code",
   "execution_count": 24,
   "metadata": {},
   "outputs": [
    {
     "name": "stdout",
     "output_type": "stream",
     "text": [
      "(70000, 784)\n",
      "(70000,)\n"
     ]
    },
    {
     "data": {
      "image/png": "[encoded data removed]",
      "text/plain": [
       "<Figure size 432x288 with 1 Axes>"
      ]
     },
     "metadata": {
      "needs_background": "light"
     },
     "output_type": "display_data"
    }
   ],
   "source": [
    "X = mnist.data\n",
    "y = mnist.target\n",
    "print(X.shape)\n",
    "print(y.shape)\n",
    "\n",
    "n_samples, n_features = np.shape(X)\n",
    "\n",
    "# Plot a sample\n",
    "plt.imshow(X[20000, :].reshape((int(np.sqrt(n_features)), -1)), cmap=\"gray\")\n",
    "\n",
    "# Partition set into train/test\n",
    "samples = np.random.randint(60000, size = 4000)\n",
    "X_train, y_train = X[samples, :], y[samples]\n",
    "X_test, y_test = X[60000:, :], y[60000:]\n",
    "print(X_train.shape,X_test.shape)\n"
   ]
  },
  {
   "cell_type": "code",
   "execution_count": 25,
   "metadata": {},
   "outputs": [
    {
     "name": "stdout",
     "output_type": "stream",
     "text": [
      "train/test error: 0.0475/0.0706\n"
     ]
    }
   ],
   "source": [
    "clf = neighbors.KNeighborsClassifier(n_neighbors=5)\n",
    "clf.fit(X_train, y_train)\n",
    "\n",
    "train_error = 1. - clf.score(X_train, y_train)\n",
    "test_error = 1. - clf.score(X_test, y_test)\n",
    "print(\"train/test error: %g/%g\" % (train_error, test_error))"
   ]
  },
  {
   "cell_type": "markdown",
   "metadata": {},
   "source": [
    "Ce n'est pas mauvais...   mais pas tellement bon non plus! Ce n'est pas tres rapide pour commencer... Vous pouvez essayer d'augmenter le nombre d'elements dans le trainign set (ici seulement 1000). Regardons les échantillons mal classés."
   ]
  },
  {
   "cell_type": "code",
   "execution_count": 26,
   "metadata": {
    "scrolled": true
   },
   "outputs": [
    {
     "name": "stdout",
     "output_type": "stream",
     "text": [
      "(array([   8,   56,  125,  130,  175,  190,  199,  210,  240,  253,  254,\n",
      "        268,  274,  277,  309,  316,  365,  387,  405,  408,  420,  456,\n",
      "        483,  491,  500,  514,  547,  556,  558,  561,  568,  569,  572,\n",
      "        586,  655,  659,  665,  677,  679,  741,  743,  749,  773,  832,\n",
      "        833,  846,  851,  884,  889,  907,  922,  927,  942,  973,  995,\n",
      "        999, 1024, 1042, 1044, 1055, 1060, 1120, 1149, 1209, 1246, 1257,\n",
      "       1277, 1281, 1320, 1483, 1503, 1510, 1516, 1620, 1629, 1641, 1680,\n",
      "       1681, 1730, 1744, 1772, 1825, 1845, 1890, 1891, 1901, 1920, 1948,\n",
      "       1966, 1993, 2012, 2032, 2034, 2042, 2046, 2085, 2086, 2102, 2103,\n",
      "       2108, 2123, 2132, 2144, 2162, 2221, 2229, 2238, 2246, 2249, 2260,\n",
      "       2266, 2269, 2274, 2320, 2325, 2331, 2342, 2347, 2367, 2378, 2420,\n",
      "       2442, 2452, 2457, 2460, 2491, 2492, 2502, 2506, 2511, 2513, 2519,\n",
      "       2533, 2539, 2591, 2618, 2676, 2683, 2747, 2780, 2795, 2798, 2810,\n",
      "       2817, 2819, 2827, 2841, 2861, 3037, 3050, 3068, 3130, 3159, 3169,\n",
      "       3171, 3204, 3208, 3223, 3240, 3250, 3345, 3350, 3351, 3365, 3374,\n",
      "       3405, 3456, 3478, 3524, 3539, 3572, 3581, 3615, 3644, 3695, 3736,\n",
      "       3740, 3757, 3768, 3791, 3808, 3822, 3835, 3844, 3870, 3872, 3876,\n",
      "       3920, 3926, 3955], dtype=int64),)\n"
     ]
    },
    {
     "data": {
      "text/plain": [
       "Text(0.5, 1.0, 'predicted label: 4')"
      ]
     },
     "execution_count": 26,
     "metadata": {},
     "output_type": "execute_result"
    },
    {
     "data": {
      "image/png": "[encoded data removed]",
      "text/plain": [
       "<Figure size 432x288 with 4 Axes>"
      ]
     },
     "metadata": {
      "needs_background": "light"
     },
     "output_type": "display_data"
    }
   ],
   "source": [
    "errors = np.where(y_train != clf.predict(X_train))\n",
    "print(errors)\n",
    "\n",
    "from random import sample\n",
    "nums=sample(list(errors[0]),4)\n",
    "\n",
    "fig, axs = plt.subplots(2, 2)\n",
    "axs[0, 0].imshow(X[nums[0], :].reshape((int(np.sqrt(n_features)), -1)), cmap=\"gray\")\n",
    "axs[0, 0].set_title(\"predicted label: %d\" % (clf.predict(X_train[nums[0], :].reshape(1, -1))))\n",
    "axs[0, 1].imshow(X[nums[1], :].reshape((int(np.sqrt(n_features)), -1)), cmap=\"gray\")\n",
    "axs[0, 1].set_title(\"predicted label: %d\" % (clf.predict(X_train[nums[1], :].reshape(1, -1))))\n",
    "axs[1, 0].imshow(X[nums[2], :].reshape((int(np.sqrt(n_features)), -1)), cmap=\"gray\")\n",
    "axs[1, 0].set_title(\"predicted label: %d\" % (clf.predict(X_train[nums[2], :].reshape(1, -1))))\n",
    "axs[1, 1].imshow(X[nums[3], :].reshape((int(np.sqrt(n_features)), -1)), cmap=\"gray\")\n",
    "axs[1, 1].set_title(\"predicted label: %d\" % (clf.predict(X_train[nums[3], :].reshape(1, -1))))"
   ]
  },
  {
   "cell_type": "markdown",
   "metadata": {},
   "source": [
    "Auparavant, nous n'exécutions $ k $ -NN que sur deux dimensions; maintenant nos vecteurs sont beaucoup plus gros, ils ont en réalité 768 dimensions. On s'attend à ce que les méthodes locales telles que $ k $ -NN ne fonctionnent pas aussi bien une fois que nous sommes passés à de grandes dimensions. Pourquoi donc?"
   ]
  },
  {
   "cell_type": "markdown",
   "metadata": {},
   "source": [
    "**exercice** : Nous allons utiliser le dataset \"diabete\", que vous pouvez telecharger ici: https://raw.githubusercontent.com/plotly/datasets/master/diabetes.csv"
   ]
  },
  {
   "cell_type": "code",
   "execution_count": 27,
   "metadata": {},
   "outputs": [
    {
     "data": {
      "text/html": [
       "<div>\n",
       "<style scoped>\n",
       "    .dataframe tbody tr th:only-of-type {\n",
       "        vertical-align: middle;\n",
       "    }\n",
       "\n",
       "    .dataframe tbody tr th {\n",
       "        vertical-align: top;\n",
       "    }\n",
       "\n",
       "    .dataframe thead th {\n",
       "        text-align: right;\n",
       "    }\n",
       "</style>\n",
       "<table border=\"1\" class=\"dataframe\">\n",
       "  <thead>\n",
       "    <tr style=\"text-align: right;\">\n",
       "      <th></th>\n",
       "      <th>Pregnancies</th>\n",
       "      <th>Glucose</th>\n",
       "      <th>BloodPressure</th>\n",
       "      <th>SkinThickness</th>\n",
       "      <th>Insulin</th>\n",
       "      <th>BMI</th>\n",
       "      <th>DiabetesPedigreeFunction</th>\n",
       "      <th>Age</th>\n",
       "      <th>Outcome</th>\n",
       "    </tr>\n",
       "  </thead>\n",
       "  <tbody>\n",
       "    <tr>\n",
       "      <th>0</th>\n",
       "      <td>6</td>\n",
       "      <td>148</td>\n",
       "      <td>72</td>\n",
       "      <td>35</td>\n",
       "      <td>0</td>\n",
       "      <td>33.6</td>\n",
       "      <td>0.627</td>\n",
       "      <td>50</td>\n",
       "      <td>1</td>\n",
       "    </tr>\n",
       "    <tr>\n",
       "      <th>1</th>\n",
       "      <td>1</td>\n",
       "      <td>85</td>\n",
       "      <td>66</td>\n",
       "      <td>29</td>\n",
       "      <td>0</td>\n",
       "      <td>26.6</td>\n",
       "      <td>0.351</td>\n",
       "      <td>31</td>\n",
       "      <td>0</td>\n",
       "    </tr>\n",
       "    <tr>\n",
       "      <th>2</th>\n",
       "      <td>8</td>\n",
       "      <td>183</td>\n",
       "      <td>64</td>\n",
       "      <td>0</td>\n",
       "      <td>0</td>\n",
       "      <td>23.3</td>\n",
       "      <td>0.672</td>\n",
       "      <td>32</td>\n",
       "      <td>1</td>\n",
       "    </tr>\n",
       "    <tr>\n",
       "      <th>3</th>\n",
       "      <td>1</td>\n",
       "      <td>89</td>\n",
       "      <td>66</td>\n",
       "      <td>23</td>\n",
       "      <td>94</td>\n",
       "      <td>28.1</td>\n",
       "      <td>0.167</td>\n",
       "      <td>21</td>\n",
       "      <td>0</td>\n",
       "    </tr>\n",
       "    <tr>\n",
       "      <th>4</th>\n",
       "      <td>0</td>\n",
       "      <td>137</td>\n",
       "      <td>40</td>\n",
       "      <td>35</td>\n",
       "      <td>168</td>\n",
       "      <td>43.1</td>\n",
       "      <td>2.288</td>\n",
       "      <td>33</td>\n",
       "      <td>1</td>\n",
       "    </tr>\n",
       "  </tbody>\n",
       "</table>\n",
       "</div>"
      ],
      "text/plain": [
       "   Pregnancies  Glucose  BloodPressure  SkinThickness  Insulin   BMI  \\\n",
       "0            6      148             72             35        0  33.6   \n",
       "1            1       85             66             29        0  26.6   \n",
       "2            8      183             64              0        0  23.3   \n",
       "3            1       89             66             23       94  28.1   \n",
       "4            0      137             40             35      168  43.1   \n",
       "\n",
       "   DiabetesPedigreeFunction  Age  Outcome  \n",
       "0                     0.627   50        1  \n",
       "1                     0.351   31        0  \n",
       "2                     0.672   32        1  \n",
       "3                     0.167   21        0  \n",
       "4                     2.288   33        1  "
      ]
     },
     "execution_count": 27,
     "metadata": {},
     "output_type": "execute_result"
    }
   ],
   "source": [
    "import pandas as pd\n",
    "#Load the dataset\n",
    "df = pd.read_csv('diabetes.csv')\n",
    "#Print the first 5 rows of the dataframe.\n",
    "df.head()"
   ]
  },
  {
   "cell_type": "code",
   "execution_count": 28,
   "metadata": {},
   "outputs": [
    {
     "name": "stdout",
     "output_type": "stream",
     "text": [
      "(768, 8) (768,)\n"
     ]
    }
   ],
   "source": [
    "#Let's create numpy arrays for features and target\n",
    "X = df.drop('Outcome',axis=1).values\n",
    "y = df['Outcome'].values\n",
    "print(X.shape,y.shape)"
   ]
  },
  {
   "cell_type": "markdown",
   "metadata": {},
   "source": [
    "Séparons les données au hasard en un ensemble d’entraînement et de test.\n",
    "\n",
    "Nous allons adapter / former un classifieur sur l'ensemble d'entraînement et faire des prédictions sur l'ensemble d'essai. Ensuite, nous comparerons les prévisions avec les étiquettes connues.\n",
    "\n",
    "Scikit-learn permet de scinder les données en train et en ensembles de test à l’aide de la méthode train_test_split."
   ]
  },
  {
   "cell_type": "code",
   "execution_count": 29,
   "metadata": {},
   "outputs": [],
   "source": [
    "#importing train_test_split\n",
    "from sklearn.model_selection import train_test_split\n",
    "X_train,X_test,y_train,y_test = train_test_split(X,y,test_size=0.4,random_state=42, stratify=y)"
   ]
  },
  {
   "cell_type": "markdown",
   "metadata": {},
   "source": [
    "Utilisez maintenant le knn classifier pour prediure le diagnostique d'un diabete a partir des données cliniques."
   ]
  },
  {
   "cell_type": "code",
   "execution_count": 30,
   "metadata": {},
   "outputs": [
    {
     "name": "stderr",
     "output_type": "stream",
     "text": [
      "C:\\Users\\ewenf\\Anaconda3\\lib\\site-packages\\sklearn\\model_selection\\_split.py:2053: FutureWarning: You should specify a value for 'cv' instead of relying on the default value. The default value will change from 3 to 5 in version 0.22.\n",
      "  warnings.warn(CV_WARNING, FutureWarning)\n"
     ]
    },
    {
     "name": "stdout",
     "output_type": "stream",
     "text": [
      "{'n_neighbors': 16}\n",
      "[0.69782609 0.69565217 0.68913043 0.7173913  0.72391304 0.7326087\n",
      " 0.72608696 0.7326087  0.74347826 0.74565217 0.73913043 0.73695652\n",
      " 0.74565217 0.74782609 0.75434783 0.75869565 0.74782609 0.73913043\n",
      " 0.74782609]\n"
     ]
    }
   ],
   "source": [
    "parameters = [{'n_neighbors': np.arange(1, 20)}] #On cherche le meilleur parametre entre 1 et 20\n",
    "clf = GridSearchCV(neighbors.KNeighborsClassifier(n_neighbors = 1), parameters)\n",
    "clf.fit(X_train, y_train)\n",
    "# Print results\n",
    "print(clf.best_params_)\n",
    "print(clf.cv_results_[\"mean_test_score\"])"
   ]
  },
  {
   "cell_type": "code",
   "execution_count": 32,
   "metadata": {},
   "outputs": [
    {
     "name": "stdout",
     "output_type": "stream",
     "text": [
      "train/test error (for optimal k): 0.23913/0.266234\n"
     ]
    }
   ],
   "source": [
    "train_error = np.mean(y_train != clf.predict(X_train))\n",
    "test_error = np.mean(y_test != clf.predict(X_test))\n",
    "print(\"train/test error (for optimal k): %g/%g\" % (train_error, test_error))"
   ]
  }
 ],
 "metadata": {
  "kernelspec": {
   "display_name": "Python 3",
   "language": "python",
   "name": "python3"
  },
  "language_info": {
   "codemirror_mode": {
    "name": "ipython",
    "version": 3
   },
   "file_extension": ".py",
   "mimetype": "text/x-python",
   "name": "python",
   "nbconvert_exporter": "python",
   "pygments_lexer": "ipython3",
   "version": "3.7.1"
  }
 },
 "nbformat": 4,
 "nbformat_minor": 2
}
